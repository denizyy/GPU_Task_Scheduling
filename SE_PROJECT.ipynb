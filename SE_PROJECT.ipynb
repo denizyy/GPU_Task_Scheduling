{
  "cells": [
    {
      "cell_type": "code",
      "execution_count": null,
      "metadata": {
        "id": "KgaVCZ4YLeWZ",
        "outputId": "d416aad0-f578-485c-91ca-7988ee3bf7e0"
      },
      "outputs": [
        {
          "name": "stdout",
          "output_type": "stream",
          "text": [
            "System utilization (ρ): 0.67\n"
          ]
        }
      ],
      "source": [
        "import pandas as pd\n",
        "import numpy as np\n",
        "import matplotlib.pyplot as plt\n",
        "\n",
        "# Simulation parameters\n",
        "np.random.seed(42)\n",
        "N = 50\n",
        "NUM_GPUS = 3\n",
        "rate_lam = 1 / 30  # 1 job per 30 sec\n",
        "mean_duration = 40\n",
        "\n",
        "# Generate job data\n",
        "interarrival_times = np.random.exponential(scale=1 / rate_lam, size=N)\n",
        "arrival_times = np.cumsum(interarrival_times)\n",
        "durations = np.random.exponential(scale=mean_duration, size=N)\n",
        "\n",
        "job_queue = pd.DataFrame({\n",
        "    \"job_id\": range(1, N + 1),\n",
        "    \"arrival_time\": arrival_times,\n",
        "    \"duration\": durations,\n",
        "    \"gpu_required\": np.random.choice([1, 2], size=N, p=[0.7, 0.3]),\n",
        "    \"priority\": np.random.choice([0, 1, 2], size=N, p=[0.4, 0.4, 0.2]),\n",
        "    \"user\": np.random.choice([\"A\", \"B\", \"C\"], size=N)\n",
        "})\n",
        "\n",
        "# Compute system utilization (ρ)\n",
        "λ = 1 / np.mean(interarrival_times)\n",
        "E_S = np.mean(job_queue[\"duration\"])\n",
        "E_K = np.mean(job_queue[\"gpu_required\"])\n",
        "rho = (λ * E_S * E_K) / NUM_GPUS\n",
        "print(f\"System utilization (ρ): {rho:.2f}\")"
      ]
    },
    {
      "cell_type": "markdown",
      "metadata": {
        "id": "-E439F6XPbHD"
      },
      "source": [
        "The system utilization $ \\rho $ is given by:\n",
        "\n",
        "$$\n",
        "\\rho = \\frac{\\lambda \\times \\mathbb{E}[W]}{C} = \\frac{\\text{jobs per second} \\times \\text{GPU-seconds per job}}{\\text{GPU-seconds per second available}}\n",
        "$$\n",
        "\n",
        "where:\n",
        "\n",
        "- $ \\lambda $ = arrival rate (jobs per second)  \n",
        "- $ \\mathbb{E}[W] $ = expected workload per job (GPU-seconds per job)  \n",
        "- $ C $ = system capacity (GPU-seconds per second available)\n",
        "\n",
        "Note: For a feasible system $ \\rho $ should be less than or equal to 1 ($ \\rho <= 1$)."
      ]
    },
    {
      "cell_type": "code",
      "execution_count": null,
      "metadata": {
        "id": "LBBxzNWrLyHg"
      },
      "outputs": [],
      "source": [
        "# FIFO Scheduler\n",
        "def fifo_scheduler(job_queue):\n",
        "    gpu_available_at = [0] * NUM_GPUS\n",
        "    job_schedule = []\n",
        "\n",
        "    for _, job in job_queue.iterrows():\n",
        "        t = job[\"arrival_time\"]\n",
        "        duration = job[\"duration\"]\n",
        "        gpus_needed = job[\"gpu_required\"]\n",
        "\n",
        "        while t < 100000:\n",
        "            available = [i for i, v in enumerate(gpu_available_at) if v <= t]\n",
        "            if len(available) >= gpus_needed:\n",
        "                for i in available[:gpus_needed]:\n",
        "                    gpu_available_at[i] = t + duration\n",
        "                job_schedule.append({\n",
        "                    \"job_id\": job[\"job_id\"],\n",
        "                    \"start_time\": t,\n",
        "                    \"end_time\": t + duration,\n",
        "                    \"waiting_time\": t - job[\"arrival_time\"]\n",
        "                })\n",
        "                break\n",
        "            else:\n",
        "                t += 1\n",
        "    return pd.DataFrame(job_schedule)\n"
      ]
    },
    {
      "cell_type": "code",
      "execution_count": null,
      "metadata": {
        "id": "Mb46fdQzQu2G"
      },
      "outputs": [],
      "source": [
        "# BinPack Scheduler\n",
        "def binpack_scheduler(job_queue):\n",
        "    gpu_available_at = [0] * NUM_GPUS\n",
        "    job_schedule = []\n",
        "\n",
        "    for _, job in job_queue.iterrows():\n",
        "        t = job[\"arrival_time\"]\n",
        "        duration = job[\"duration\"]\n",
        "        gpus_needed = job[\"gpu_required\"]\n",
        "\n",
        "        while t < 100000:\n",
        "            available = [(i, gpu_available_at[i]) for i in range(NUM_GPUS) if gpu_available_at[i] <= t]\n",
        "            if len(available) >= gpus_needed:\n",
        "                sorted_avail = sorted(available, key=lambda x: x[1], reverse=True)\n",
        "                for i, _ in sorted_avail[:gpus_needed]:\n",
        "                    gpu_available_at[i] = t + duration\n",
        "                job_schedule.append({\n",
        "                    \"job_id\": job[\"job_id\"],\n",
        "                    \"start_time\": t,\n",
        "                    \"end_time\": t + duration,\n",
        "                    \"waiting_time\": t - job[\"arrival_time\"]\n",
        "                })\n",
        "                break\n",
        "            else:\n",
        "                t += 1\n",
        "    return pd.DataFrame(job_schedule)"
      ]
    },
    {
      "cell_type": "code",
      "execution_count": null,
      "metadata": {
        "id": "Tb5O6BhkU4A2"
      },
      "outputs": [],
      "source": [
        "# Least Attending Scheduler\n",
        "def least_attending_scheduler(job_queue):\n",
        "    gpu_available_at = [0] * NUM_GPUS\n",
        "    job_schedule = []\n",
        "    user_usage = {user: 0 for user in job_queue[\"user\"].unique()}\n",
        "\n",
        "    for _, job in job_queue.sort_values(by=\"arrival_time\").iterrows():\n",
        "        t = job[\"arrival_time\"]\n",
        "        duration = job[\"duration\"]\n",
        "        gpus_needed = job[\"gpu_required\"]\n",
        "        user = job[\"user\"]\n",
        "\n",
        "        while t < 100000:\n",
        "            available = [i for i, v in enumerate(gpu_available_at) if v <= t]\n",
        "            if len(available) >= gpus_needed:\n",
        "                if user == min(user_usage, key=user_usage.get):\n",
        "                    for i in available[:gpus_needed]:\n",
        "                        gpu_available_at[i] = t + duration\n",
        "                    job_schedule.append({\n",
        "                        \"job_id\": job[\"job_id\"],\n",
        "                        \"user\": user,\n",
        "                        \"start_time\": t,\n",
        "                        \"end_time\": t + duration,\n",
        "                        \"waiting_time\": t - job[\"arrival_time\"]\n",
        "                    })\n",
        "                    user_usage[user] += duration * gpus_needed\n",
        "                    break\n",
        "                else:\n",
        "                    t += 1\n",
        "            else:\n",
        "                t += 1\n",
        "    return pd.DataFrame(job_schedule)"
      ]
    },
    {
      "cell_type": "code",
      "execution_count": null,
      "metadata": {
        "id": "P95mleOJU80S"
      },
      "outputs": [],
      "source": [
        "# Run scheduling algorithms\n",
        "fifo_result = fifo_scheduler(job_queue)\n",
        "binpack_result = binpack_scheduler(job_queue)\n",
        "least_result = least_attending_scheduler(job_queue)\n"
      ]
    },
    {
      "cell_type": "code",
      "execution_count": null,
      "metadata": {
        "colab": {
          "base_uri": "https://localhost:8080/",
          "height": 876
        },
        "id": "wXkrz4W_U-DU",
        "outputId": "5292e637-d492-4bff-d46a-d80d018faa24"
      },
      "outputs": [
        {
          "data": {
            "image/png": "[encoded data removed]",
            "text/plain": [
              "<Figure size 1800x500 with 3 Axes>"
            ]
          },
          "metadata": {},
          "output_type": "display_data"
        },
        {
          "name": "stdout",
          "output_type": "stream",
          "text": [
            "FIFO average waiting time: 33.58 seconds\n",
            "BinPack average waiting time: 30.90 seconds\n",
            "Least Attending average waiting time: 1.15 seconds\n"
          ]
        }
      ],
      "source": [
        "# Plot histograms\n",
        "fig, axs = plt.subplots(1, 3, figsize=(18, 5))\n",
        "schedules = [fifo_result, binpack_result, least_result]\n",
        "titles = [\"FIFO\", \"BinPack\", \"Least Attending\"]\n",
        "colors = [\"skyblue\", \"lightgreen\", \"salmon\"]\n",
        "\n",
        "for ax, sched, title, color in zip(axs, schedules, titles, colors):\n",
        "    ax.hist(sched[\"waiting_time\"], bins=20, color=color, edgecolor=\"black\")\n",
        "    ax.set_title(f\"{title} - Waiting Time\")\n",
        "    ax.set_xlabel(\"Waiting time (sec)\")\n",
        "    ax.set_ylabel(\"Number of jobs\")\n",
        "    ax.grid(True)\n",
        "\n",
        "plt.tight_layout()\n",
        "plt.show()\n",
        "\n",
        "# Print average waiting times\n",
        "for title, sched in zip(titles, schedules):\n",
        "    print(f\"{title} average waiting time: {sched['waiting_time'].mean():.2f} seconds\")"
      ]
    },
    {
      "cell_type": "code",
      "execution_count": null,
      "metadata": {
        "id": "aKphnt_ZPd4O"
      },
      "outputs": [],
      "source": []
    }
  ],
  "metadata": {
    "colab": {
      "provenance": []
    },
    "kernelspec": {
      "display_name": "Python 3",
      "name": "python3"
    },
    "language_info": {
      "codemirror_mode": {
        "name": "ipython",
        "version": 3
      },
      "file_extension": ".py",
      "mimetype": "text/x-python",
      "name": "python",
      "nbconvert_exporter": "python",
      "pygments_lexer": "ipython3",
      "version": "3.12.3"
    }
  },
  "nbformat": 4,
  "nbformat_minor": 0
}